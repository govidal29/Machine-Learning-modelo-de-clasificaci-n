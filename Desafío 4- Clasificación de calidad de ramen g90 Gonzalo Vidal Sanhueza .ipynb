{
 "cells": [
  {
   "cell_type": "code",
   "execution_count": null,
   "id": "ddbcd813-6c1a-4de2-b191-e25cf4ce2b6e",
   "metadata": {},
   "outputs": [],
   "source": [
    "#Importación de Librerías\n",
    "import pandas as pd\n",
    "import numpy as np\n",
    "import matplotlib.pyplot as plt\n",
    "import seaborn as sns\n",
    "from sklearn.model_selection import train_test_split\n",
    "from sklearn.preprocessing import StandardScaler, LabelEncoder\n",
    "from sklearn.linear_model import LogisticRegression\n",
    "from sklearn.svm import SVC\n",
    "from sklearn.metrics import accuracy_score, classification_report, roc_auc_score, roc_curve\n"
   ]
  },
  {
   "cell_type": "code",
   "execution_count": 29,
   "id": "434ae453-a5f0-4ce1-81a3-67db1374aec6",
   "metadata": {},
   "outputs": [
    {
     "data": {
      "text/html": [
       "<div>\n",
       "<style scoped>\n",
       "    .dataframe tbody tr th:only-of-type {\n",
       "        vertical-align: middle;\n",
       "    }\n",
       "\n",
       "    .dataframe tbody tr th {\n",
       "        vertical-align: top;\n",
       "    }\n",
       "\n",
       "    .dataframe thead th {\n",
       "        text-align: right;\n",
       "    }\n",
       "</style>\n",
       "<table border=\"1\" class=\"dataframe\">\n",
       "  <thead>\n",
       "    <tr style=\"text-align: right;\">\n",
       "      <th></th>\n",
       "      <th>Review #</th>\n",
       "      <th>Brand</th>\n",
       "      <th>Variety</th>\n",
       "      <th>Style</th>\n",
       "      <th>Country</th>\n",
       "      <th>Stars</th>\n",
       "      <th>Top Ten</th>\n",
       "    </tr>\n",
       "  </thead>\n",
       "  <tbody>\n",
       "    <tr>\n",
       "      <th>0</th>\n",
       "      <td>2580</td>\n",
       "      <td>New Touch</td>\n",
       "      <td>T's Restaurant Tantanmen</td>\n",
       "      <td>Cup</td>\n",
       "      <td>Japan</td>\n",
       "      <td>3.75</td>\n",
       "      <td>NaN</td>\n",
       "    </tr>\n",
       "    <tr>\n",
       "      <th>1</th>\n",
       "      <td>2579</td>\n",
       "      <td>Just Way</td>\n",
       "      <td>Noodles Spicy Hot Sesame Spicy Hot Sesame Guan...</td>\n",
       "      <td>Pack</td>\n",
       "      <td>Taiwan</td>\n",
       "      <td>1</td>\n",
       "      <td>NaN</td>\n",
       "    </tr>\n",
       "    <tr>\n",
       "      <th>2</th>\n",
       "      <td>2578</td>\n",
       "      <td>Nissin</td>\n",
       "      <td>Cup Noodles Chicken Vegetable</td>\n",
       "      <td>Cup</td>\n",
       "      <td>USA</td>\n",
       "      <td>2.25</td>\n",
       "      <td>NaN</td>\n",
       "    </tr>\n",
       "    <tr>\n",
       "      <th>3</th>\n",
       "      <td>2577</td>\n",
       "      <td>Wei Lih</td>\n",
       "      <td>GGE Ramen Snack Tomato Flavor</td>\n",
       "      <td>Pack</td>\n",
       "      <td>Taiwan</td>\n",
       "      <td>2.75</td>\n",
       "      <td>NaN</td>\n",
       "    </tr>\n",
       "    <tr>\n",
       "      <th>4</th>\n",
       "      <td>2576</td>\n",
       "      <td>Ching's Secret</td>\n",
       "      <td>Singapore Curry</td>\n",
       "      <td>Pack</td>\n",
       "      <td>India</td>\n",
       "      <td>3.75</td>\n",
       "      <td>NaN</td>\n",
       "    </tr>\n",
       "  </tbody>\n",
       "</table>\n",
       "</div>"
      ],
      "text/plain": [
       "   Review #           Brand  \\\n",
       "0      2580       New Touch   \n",
       "1      2579        Just Way   \n",
       "2      2578          Nissin   \n",
       "3      2577         Wei Lih   \n",
       "4      2576  Ching's Secret   \n",
       "\n",
       "                                             Variety Style Country Stars  \\\n",
       "0                           T's Restaurant Tantanmen   Cup   Japan  3.75   \n",
       "1  Noodles Spicy Hot Sesame Spicy Hot Sesame Guan...  Pack  Taiwan     1   \n",
       "2                      Cup Noodles Chicken Vegetable   Cup     USA  2.25   \n",
       "3                      GGE Ramen Snack Tomato Flavor  Pack  Taiwan  2.75   \n",
       "4                                    Singapore Curry  Pack   India  3.75   \n",
       "\n",
       "  Top Ten  \n",
       "0     NaN  \n",
       "1     NaN  \n",
       "2     NaN  \n",
       "3     NaN  \n",
       "4     NaN  "
      ]
     },
     "execution_count": 29,
     "metadata": {},
     "output_type": "execute_result"
    }
   ],
   "source": [
    "#cargar los archivos \n",
    "df = pd.read_excel('C:/Users/gonza/OneDrive/Desktop/machine learning/ramen-ratings.xlsx')\n",
    "df.head()\n"
   ]
  },
  {
   "cell_type": "code",
   "execution_count": 31,
   "id": "9241724e-7ec0-494c-b4fa-4f79215d5e03",
   "metadata": {},
   "outputs": [
    {
     "name": "stdout",
     "output_type": "stream",
     "text": [
      "<class 'pandas.core.frame.DataFrame'>\n",
      "RangeIndex: 2580 entries, 0 to 2579\n",
      "Data columns (total 7 columns):\n",
      " #   Column    Non-Null Count  Dtype \n",
      "---  ------    --------------  ----- \n",
      " 0   Review #  2580 non-null   int64 \n",
      " 1   Brand     2580 non-null   object\n",
      " 2   Variety   2580 non-null   object\n",
      " 3   Style     2578 non-null   object\n",
      " 4   Country   2580 non-null   object\n",
      " 5   Stars     2580 non-null   object\n",
      " 6   Top Ten   41 non-null     object\n",
      "dtypes: int64(1), object(6)\n",
      "memory usage: 141.2+ KB\n"
     ]
    },
    {
     "data": {
      "text/plain": [
       "Review #       0\n",
       "Brand          0\n",
       "Variety        0\n",
       "Style          2\n",
       "Country        0\n",
       "Stars          0\n",
       "Top Ten     2539\n",
       "dtype: int64"
      ]
     },
     "execution_count": 31,
     "metadata": {},
     "output_type": "execute_result"
    }
   ],
   "source": [
    "#Análisis Exploratorio de los Datos\n",
    "df.info()\n",
    "df.describe()\n",
    "df.isnull().sum()  # Verificamos valores faltantes"
   ]
  },
  {
   "cell_type": "code",
   "execution_count": 33,
   "id": "607cd9ce-5ad7-436c-8910-3b3c68fa892f",
   "metadata": {},
   "outputs": [
    {
     "data": {
      "text/plain": [
       "Review #    0\n",
       "Brand       0\n",
       "Variety     0\n",
       "Style       0\n",
       "Country     0\n",
       "Stars       0\n",
       "Top Ten     0\n",
       "dtype: int64"
      ]
     },
     "execution_count": 33,
     "metadata": {},
     "output_type": "execute_result"
    }
   ],
   "source": [
    "#limpieza de los datos\n",
    "df.dropna(inplace=True)\n",
    "df.isnull().sum()  # Verificamos que se han eliminado correctamente"
   ]
  },
  {
   "cell_type": "code",
   "execution_count": 35,
   "id": "f24cf310-c694-4257-9a7c-2dcc3edded89",
   "metadata": {},
   "outputs": [],
   "source": [
    "# Codificación de Variables Categóricas\n",
    "le = LabelEncoder()\n",
    "df['Brand'] = le.fit_transform(df['Brand'])\n",
    "df['Country'] = le.fit_transform(df['Country'])\n",
    "df['Variety'] = le.fit_transform(df['Variety'])\n",
    "df['Style'] = le.fit_transform(df['Style'])\n"
   ]
  },
  {
   "cell_type": "code",
   "execution_count": 53,
   "id": "595d9208-a111-4303-908f-a7489b182b05",
   "metadata": {},
   "outputs": [],
   "source": [
    "#División de Datos entrenamiento y prueba ,definimos la variable objetivo y y las variables predictoras X. Convertimos la columna Stars en una variable binaria: Bueno (>=3) vs Malo (<3).\n",
    "X = df.drop('Stars', axis=1)\n",
    "y = df['Stars'].apply(lambda x: 1 if x >= 3 else 0)  # 1 = Bueno, 0 = Malo\n",
    "\n",
    "X_train, X_test, y_train, y_test = train_test_split(X, y, test_size=0.2, random_state=42)\n"
   ]
  },
  {
   "cell_type": "code",
   "execution_count": 55,
   "id": "51255936-450a-4326-b296-daa143fdb1b0",
   "metadata": {},
   "outputs": [
    {
     "name": "stdout",
     "output_type": "stream",
     "text": [
      "      Review #  Brand  Variety  Style  Country  Top Ten\n",
      "942       1638      0       39      2        8   2015.0\n",
      "1757       823     14       15      2        7   2013.0\n",
      "1109      1471      6        9      2        9   2013.0\n",
      "1278      1302      6       10      2        9   2014.0\n",
      "1059      1521      8        6      3        3   2015.0\n",
      "<class 'pandas.core.frame.DataFrame'>\n",
      "Index: 32 entries, 942 to 2535\n",
      "Data columns (total 6 columns):\n",
      " #   Column    Non-Null Count  Dtype  \n",
      "---  ------    --------------  -----  \n",
      " 0   Review #  32 non-null     int64  \n",
      " 1   Brand     32 non-null     int32  \n",
      " 2   Variety   32 non-null     int32  \n",
      " 3   Style     32 non-null     int32  \n",
      " 4   Country   32 non-null     int32  \n",
      " 5   Top Ten   29 non-null     float64\n",
      "dtypes: float64(1), int32(4), int64(1)\n",
      "memory usage: 1.2 KB\n",
      "None\n"
     ]
    }
   ],
   "source": [
    "print(X_train.head())\n",
    "print(X_train.info())"
   ]
  },
  {
   "cell_type": "code",
   "execution_count": 59,
   "id": "44bb642a-ce0f-41e8-937d-bc513e2e5b3b",
   "metadata": {},
   "outputs": [
    {
     "name": "stdout",
     "output_type": "stream",
     "text": [
      "942     2015.0\n",
      "1757    2013.0\n",
      "1109    2013.0\n",
      "1278    2014.0\n",
      "1059    2015.0\n",
      "Name: Top Ten, dtype: float64\n",
      "float64\n"
     ]
    }
   ],
   "source": [
    "print(X_train['Top Ten'].head())\n",
    "print(X_train['Top Ten'].dtype)\n"
   ]
  },
  {
   "cell_type": "code",
   "execution_count": 61,
   "id": "0738d842-16cd-45d7-a8f8-8c9b591e2c9c",
   "metadata": {},
   "outputs": [],
   "source": [
    "from sklearn.preprocessing import StandardScaler\n",
    "\n",
    "scaler = StandardScaler()\n",
    "X_train_scaled = scaler.fit_transform(X_train)\n",
    "X_test_scaled = scaler.transform(X_test)\n"
   ]
  },
  {
   "cell_type": "code",
   "execution_count": 63,
   "id": "df54f368-714a-4d07-bbe3-421c71678c21",
   "metadata": {
    "scrolled": true
   },
   "outputs": [
    {
     "name": "stdout",
     "output_type": "stream",
     "text": [
      "[[ 0.95584374 -1.85146758  1.50958183 -0.1796053   1.44538946  0.80849333]\n",
      " [-0.42645662  0.75688926 -0.41306965 -0.1796053   1.02105494 -0.61249495]\n",
      " [ 0.67259937 -0.73360036 -0.89373253 -0.1796053   1.86972398 -0.61249495]\n",
      " [ 0.38596285 -0.73360036 -0.81362205 -0.1796053   1.86972398  0.09799919]\n",
      " [ 0.75740308 -0.36097796 -1.13406396  2.69407953 -0.67628314  0.80849333]]\n",
      "[[-0.2381924   0.57057806 -0.65340109 -0.1796053   2.2940585  -0.61249495]\n",
      " [ 0.664119   -0.73360036  0.22781417 -0.1796053   1.86972398  0.80849333]\n",
      " [ 0.86595182 -1.66515638  0.14770369 -0.1796053  -0.25194862  0.80849333]\n",
      " [-0.27889818  0.75688926  0.06759322 -5.92697497  1.02105494         nan]\n",
      " [ 1.27809781  1.68844528  0.62836657 -0.1796053   1.44538946  1.51898747]]\n"
     ]
    }
   ],
   "source": [
    "print(X_train_scaled[:5])\n",
    "print(X_test_scaled[:5])\n"
   ]
  },
  {
   "cell_type": "code",
   "execution_count": 69,
   "id": "26eeb7c4-e351-4c24-8e8e-c1ed9b5f6ed2",
   "metadata": {},
   "outputs": [],
   "source": [
    "#Imputación de valores faltantes en los datos originales\n",
    "X_train = X_train.fillna(X_train.mean())\n",
    "X_test = X_test.fillna(X_test.mean())\n"
   ]
  },
  {
   "cell_type": "code",
   "execution_count": 71,
   "id": "4a40f612-e76d-418c-a2da-f81732605ac8",
   "metadata": {},
   "outputs": [],
   "source": [
    "#Escalo los datos nuevamente: Una vez que los valores faltantes han sido imputados, aplic0 el escalador StandardScaler\n",
    "scaler = StandardScaler()\n",
    "X_train_scaled = scaler.fit_transform(X_train)\n",
    "X_test_scaled = scaler.transform(X_test)\n"
   ]
  },
  {
   "cell_type": "code",
   "execution_count": 73,
   "id": "37dac0a6-7df6-4716-9de2-4eff44008130",
   "metadata": {},
   "outputs": [
    {
     "name": "stdout",
     "output_type": "stream",
     "text": [
      "0\n",
      "0\n"
     ]
    }
   ],
   "source": [
    "#Confirma la ausencia de Nan\n",
    "print(np.isnan(X_train_scaled).sum())\n",
    "print(np.isnan(X_test_scaled).sum())\n"
   ]
  },
  {
   "cell_type": "code",
   "execution_count": 79,
   "id": "0b55453f-51ca-4b2a-8d68-fd2ceb0462ed",
   "metadata": {},
   "outputs": [],
   "source": [
    "#Entrenar los modelos,librerias \n",
    "from sklearn.linear_model import LogisticRegression\n",
    "from sklearn.metrics import classification_report\n"
   ]
  },
  {
   "cell_type": "code",
   "execution_count": 95,
   "id": "9d174075-8851-4e39-a21a-f9b490d5f851",
   "metadata": {
    "scrolled": true
   },
   "outputs": [
    {
     "name": "stdout",
     "output_type": "stream",
     "text": [
      "Collecting imbalanced-learn\n",
      "  Downloading imbalanced_learn-0.13.0-py3-none-any.whl.metadata (8.8 kB)\n",
      "Requirement already satisfied: numpy<3,>=1.24.3 in c:\\users\\gonza\\anaconda3\\lib\\site-packages (from imbalanced-learn) (1.26.4)\n",
      "Requirement already satisfied: scipy<2,>=1.10.1 in c:\\users\\gonza\\anaconda3\\lib\\site-packages (from imbalanced-learn) (1.14.1)\n",
      "Requirement already satisfied: scikit-learn<2,>=1.3.2 in c:\\users\\gonza\\anaconda3\\lib\\site-packages (from imbalanced-learn) (1.6.0)\n",
      "Collecting sklearn-compat<1,>=0.1 (from imbalanced-learn)\n",
      "  Downloading sklearn_compat-0.1.3-py3-none-any.whl.metadata (18 kB)\n",
      "Requirement already satisfied: joblib<2,>=1.1.1 in c:\\users\\gonza\\anaconda3\\lib\\site-packages (from imbalanced-learn) (1.4.2)\n",
      "Requirement already satisfied: threadpoolctl<4,>=2.0.0 in c:\\users\\gonza\\anaconda3\\lib\\site-packages (from imbalanced-learn) (3.5.0)\n",
      "Downloading imbalanced_learn-0.13.0-py3-none-any.whl (238 kB)\n",
      "Downloading sklearn_compat-0.1.3-py3-none-any.whl (18 kB)\n",
      "Installing collected packages: sklearn-compat, imbalanced-learn\n",
      "Successfully installed imbalanced-learn-0.13.0 sklearn-compat-0.1.3\n"
     ]
    }
   ],
   "source": [
    "!pip install imbalanced-learn"
   ]
  },
  {
   "cell_type": "code",
   "execution_count": 105,
   "id": "ec026787-bd89-4766-b638-15ccb3d15683",
   "metadata": {},
   "outputs": [
    {
     "name": "stdout",
     "output_type": "stream",
     "text": [
      "(41, 6)\n",
      "(41,)\n",
      "616    1\n",
      "633    1\n",
      "655    1\n",
      "673    1\n",
      "752    1\n",
      "Name: Stars, dtype: int64\n",
      "<class 'pandas.core.frame.DataFrame'>\n",
      "Index: 41 entries, 616 to 2567\n",
      "Data columns (total 6 columns):\n",
      " #   Column    Non-Null Count  Dtype  \n",
      "---  ------    --------------  -----  \n",
      " 0   Review #  41 non-null     int64  \n",
      " 1   Brand     41 non-null     int32  \n",
      " 2   Variety   41 non-null     int32  \n",
      " 3   Style     41 non-null     int32  \n",
      " 4   Country   41 non-null     int32  \n",
      " 5   Top Ten   37 non-null     float64\n",
      "dtypes: float64(1), int32(4), int64(1)\n",
      "memory usage: 1.6 KB\n",
      "None\n"
     ]
    }
   ],
   "source": [
    "print(X.shape)\n",
    "print(y.shape)\n",
    "print(y.head())\n",
    "print(X.info())\n"
   ]
  },
  {
   "cell_type": "code",
   "execution_count": 109,
   "id": "0d3fc154-d675-4d3d-87ce-dcefc3c3b219",
   "metadata": {},
   "outputs": [
    {
     "name": "stdout",
     "output_type": "stream",
     "text": [
      "Review #    0\n",
      "Brand       0\n",
      "Variety     0\n",
      "Style       0\n",
      "Country     0\n",
      "Top Ten     0\n",
      "dtype: int64\n"
     ]
    }
   ],
   "source": [
    "print(X.isnull().sum())\n"
   ]
  },
  {
   "cell_type": "code",
   "execution_count": 115,
   "id": "a0ab31e5-8a88-49a9-94cd-67ae3da49323",
   "metadata": {},
   "outputs": [
    {
     "name": "stdout",
     "output_type": "stream",
     "text": [
      "Stars\n",
      "1    40\n",
      "0     1\n",
      "Name: count, dtype: int64\n"
     ]
    }
   ],
   "source": [
    "print(pd.Series(y).value_counts())\n"
   ]
  },
  {
   "cell_type": "code",
   "execution_count": 137,
   "id": "413b5084-dcdc-4811-936e-762e7a74ce98",
   "metadata": {},
   "outputs": [],
   "source": [
    "from sklearn.preprocessing import StandardScaler\n",
    "\n",
    "scaler = StandardScaler()\n",
    "X_train_scaled = scaler.fit_transform(X_train)\n",
    "X_test_scaled = scaler.transform(X_test)\n"
   ]
  },
  {
   "cell_type": "code",
   "execution_count": 139,
   "id": "ede04a1e-5b7b-496d-8aab-955d16070748",
   "metadata": {},
   "outputs": [
    {
     "name": "stdout",
     "output_type": "stream",
     "text": [
      "Reporte de Clasificación:\n",
      "               precision    recall  f1-score   support\n",
      "\n",
      "           0       1.00      1.00      1.00         5\n",
      "           1       1.00      1.00      1.00        11\n",
      "\n",
      "    accuracy                           1.00        16\n",
      "   macro avg       1.00      1.00      1.00        16\n",
      "weighted avg       1.00      1.00      1.00        16\n",
      "\n"
     ]
    }
   ],
   "source": [
    "from sklearn.linear_model import LogisticRegression\n",
    "from sklearn.metrics import classification_report\n",
    "\n",
    "log_reg = LogisticRegression(solver='saga', max_iter=5000, tol=0.01)\n",
    "log_reg.fit(X_train_scaled, y_train)\n",
    "\n",
    "# Predecir y evaluar\n",
    "y_pred = log_reg.predict(X_test_scaled)\n",
    "print(\"Reporte de Clasificación:\\n\", classification_report(y_test, y_pred))\n"
   ]
  },
  {
   "cell_type": "code",
   "execution_count": 141,
   "id": "7fa25feb-1cd7-45cf-9b11-92f226bdfca9",
   "metadata": {},
   "outputs": [
    {
     "name": "stdout",
     "output_type": "stream",
     "text": [
      "[[-0.61518614  0.29405283 -0.73537908 -0.76017848  0.47348719 -0.07736527]\n",
      " [-0.61518614  0.29405283 -0.73537908 -0.76017848  0.47348719 -0.07736527]\n",
      " [-0.61518614  0.29405283 -0.73537908 -0.76017848  0.47348719 -0.07736527]\n",
      " [-1.19778379  1.53217    -0.42625421  0.80922225 -1.58096571 -2.23565789]\n",
      " [ 1.5563142  -0.94406434 -0.34897299  2.37862298 -1.58096571  1.28743742]]\n"
     ]
    }
   ],
   "source": [
    "print(X_train_scaled[:5])  # Verifica los datos escalados\n"
   ]
  },
  {
   "cell_type": "code",
   "execution_count": 188,
   "id": "bf0b1c7c-caf1-43fb-86f6-b594ef1c10ed",
   "metadata": {},
   "outputs": [],
   "source": [
    "#Dividir los datos en conjuntos de entrenamiento y prueba\n",
    "from sklearn.model_selection import train_test_split\n",
    "\n",
    "# Dividir los datos\n",
    "X_train, X_test, y_train, y_test = train_test_split(\n",
    "    X_resampled, y_resampled, test_size=0.2, random_state=42\n",
    ")\n"
   ]
  },
  {
   "cell_type": "code",
   "execution_count": 190,
   "id": "37105006-b574-40be-afe9-e191686e8693",
   "metadata": {},
   "outputs": [
    {
     "name": "stdout",
     "output_type": "stream",
     "text": [
      "Reporte de Clasificación - Regresión Logística:\n",
      "\n",
      "              precision    recall  f1-score   support\n",
      "\n",
      "           0       0.83      1.00      0.91         5\n",
      "           1       1.00      0.91      0.95        11\n",
      "\n",
      "    accuracy                           0.94        16\n",
      "   macro avg       0.92      0.95      0.93        16\n",
      "weighted avg       0.95      0.94      0.94        16\n",
      "\n"
     ]
    }
   ],
   "source": [
    "#Entrenar modelos (Regresión Logística y SVM) ,entrenar un modelo de Regresión Logística\n",
    "from sklearn.linear_model import LogisticRegression\n",
    "from sklearn.metrics import classification_report\n",
    "\n",
    "# Modelo de Regresión Logística con hiperparámetros iniciales\n",
    "log_reg = LogisticRegression(max_iter=1000, random_state=42)\n",
    "log_reg.fit(X_train, y_train)\n",
    "\n",
    "# Predecir y evaluar\n",
    "y_pred_log = log_reg.predict(X_test)\n",
    "print(\"Reporte de Clasificación - Regresión Logística:\\n\")\n",
    "print(classification_report(y_test, y_pred_log))\n"
   ]
  },
  {
   "cell_type": "code",
   "execution_count": 216,
   "id": "43c6edde-5440-4eb5-8373-421e40e77d83",
   "metadata": {},
   "outputs": [
    {
     "name": "stdout",
     "output_type": "stream",
     "text": [
      "Reporte de Clasificación - SVM:\n",
      "\n",
      "              precision    recall  f1-score   support\n",
      "\n",
      "           0       0.83      1.00      0.91         5\n",
      "           1       1.00      0.91      0.95        11\n",
      "\n",
      "    accuracy                           0.94        16\n",
      "   macro avg       0.92      0.95      0.93        16\n",
      "weighted avg       0.95      0.94      0.94        16\n",
      "\n"
     ]
    }
   ],
   "source": [
    "#Entrenar un modelo de Support Vector Machine (SVM):\n",
    "from sklearn.svm import SVC\n",
    "\n",
    "# Modelo SVM con hiperparámetros iniciales\n",
    "svm_model = SVC(kernel='linear', probability=True, random_state=42)\n",
    "svm_model.fit(X_train, y_train)\n",
    "\n",
    "# Predecir y evaluar\n",
    "y_pred_svm = svm_model.predict(X_test)\n",
    "print(\"Reporte de Clasificación - SVM:\\n\")\n",
    "print(classification_report(y_test, y_pred_svm))\n"
   ]
  },
  {
   "cell_type": "code",
   "execution_count": 218,
   "id": "edbda43f-4551-47e6-a805-5c6d96979fde",
   "metadata": {},
   "outputs": [
    {
     "name": "stdout",
     "output_type": "stream",
     "text": [
      "Mejores hiperparámetros (Regresión Logística): {'C': 0.1, 'solver': 'lbfgs'}\n",
      "Mejor precisión: 0.9525641025641025\n"
     ]
    }
   ],
   "source": [
    "#Realizar una búsqueda de hiperparámetros (GridSearchCV)\n",
    "from sklearn.model_selection import GridSearchCV\n",
    "\n",
    "# Definir los parámetros a buscar\n",
    "param_grid_log = {\n",
    "    'C': [0.1, 1, 10, 100],  # Regularización\n",
    "    'solver': ['lbfgs', 'liblinear']  # Algoritmos para optimización\n",
    "}\n",
    "\n",
    "# Configurar GridSearchCV\n",
    "grid_log = GridSearchCV(LogisticRegression(max_iter=1000, random_state=42), \n",
    "                        param_grid_log, \n",
    "                        cv=5, \n",
    "                        scoring='accuracy')\n",
    "\n",
    "# Entrenar y buscar los mejores hiperparámetrosa\n",
    "grid_log.fit(X_train, y_train)\n",
    "\n",
    "# Resultados\n",
    "print(\"Mejores hiperparámetros (Regresión Logística):\", grid_log.best_params_)\n",
    "print(\"Mejor precisión:\", grid_log.best_score_)\n"
   ]
  },
  {
   "cell_type": "code",
   "execution_count": 220,
   "id": "51b197f8-5cfe-4667-bf16-4c3a5972959c",
   "metadata": {},
   "outputs": [
    {
     "name": "stdout",
     "output_type": "stream",
     "text": [
      "Mejores hiperparámetros (Regresión Logística): {'C': 0.1, 'solver': 'lbfgs'}\n",
      "Mejor precisión: 0.9525641025641025\n"
     ]
    }
   ],
   "source": [
    "#Búsqueda de hiperparámetros para SVM:\n",
    "from sklearn.model_selection import GridSearchCV\n",
    "\n",
    "# Definir los parámetros a buscar\n",
    "param_grid_log = {\n",
    "    'C': [0.1, 1, 10, 100],  # Regularización\n",
    "    'solver': ['lbfgs', 'liblinear']  # Algoritmos para optimización\n",
    "}\n",
    "\n",
    "# Configurar GridSearchCV\n",
    "grid_log = GridSearchCV(LogisticRegression(max_iter=1000, random_state=42), \n",
    "                        param_grid_log, \n",
    "                        cv=5, \n",
    "                        scoring='accuracy')\n",
    "\n",
    "# Entrenar y buscar los mejores hiperparámetros\n",
    "grid_log.fit(X_train, y_train)\n",
    "\n",
    "# Resultados\n",
    "print(\"Mejores hiperparámetros (Regresión Logística):\", grid_log.best_params_)\n",
    "print(\"Mejor precisión:\", grid_log.best_score_)\n"
   ]
  },
  {
   "cell_type": "code",
   "execution_count": 222,
   "id": "6c1bc560-99a4-4550-b0fd-7b1957d3d64d",
   "metadata": {},
   "outputs": [
    {
     "name": "stdout",
     "output_type": "stream",
     "text": [
      "Mejores hiperparámetros (SVM): {'C': 0.1, 'gamma': 'auto', 'kernel': 'rbf'}\n",
      "Mejor precisión: 1.0\n"
     ]
    }
   ],
   "source": [
    "# Definir los parámetros a buscar\n",
    "param_grid_svm = {\n",
    "    'C': [0.1, 1, 10, 100],  # Regularización\n",
    "    'kernel': ['linear', 'rbf'],  # Tipo de kernel\n",
    "    'gamma': ['scale', 'auto']  # Coeficiente del kernel\n",
    "}\n",
    "\n",
    "# Configurar GridSearchCV\n",
    "grid_svm = GridSearchCV(SVC(probability=True, random_state=42), \n",
    "                        param_grid_svm, \n",
    "                        cv=5, \n",
    "                        scoring='accuracy')\n",
    "\n",
    "# Entrenar y buscar los mejores hiperparámetros\n",
    "grid_svm.fit(X_train, y_train)\n",
    "\n",
    "# Resultados\n",
    "print(\"Mejores hiperparámetros (SVM):\", grid_svm.best_params_)\n",
    "print(\"Mejor precisión:\", grid_svm.best_score_)\n"
   ]
  },
  {
   "cell_type": "code",
   "execution_count": 224,
   "id": "b129a2f8-6143-418f-9417-1e839cf4ff2a",
   "metadata": {},
   "outputs": [
    {
     "name": "stdout",
     "output_type": "stream",
     "text": [
      "Reporte de Clasificación - Regresión Logística (mejores parámetros):\n",
      "\n",
      "              precision    recall  f1-score   support\n",
      "\n",
      "           0       0.83      1.00      0.91         5\n",
      "           1       1.00      0.91      0.95        11\n",
      "\n",
      "    accuracy                           0.94        16\n",
      "   macro avg       0.92      0.95      0.93        16\n",
      "weighted avg       0.95      0.94      0.94        16\n",
      "\n"
     ]
    }
   ],
   "source": [
    "# Evaluar Regresión Logística:Usar el mejor modelo encontrado por GridSearchCV\n",
    "best_log_model = grid_log.best_estimator_\n",
    "\n",
    "# Predecir y evaluar\n",
    "y_pred_best_log = best_log_model.predict(X_test)\n",
    "print(\"Reporte de Clasificación - Regresión Logística (mejores parámetros):\\n\")\n",
    "print(classification_report(y_test, y_pred_best_log))\n"
   ]
  },
  {
   "cell_type": "code",
   "execution_count": 226,
   "id": "1af9aabc-8cb2-4a16-b116-8d52bb32c083",
   "metadata": {},
   "outputs": [
    {
     "name": "stdout",
     "output_type": "stream",
     "text": [
      "Reporte de Clasificación - SVM (mejores parámetros):\n",
      "\n",
      "              precision    recall  f1-score   support\n",
      "\n",
      "           0       1.00      1.00      1.00         5\n",
      "           1       1.00      1.00      1.00        11\n",
      "\n",
      "    accuracy                           1.00        16\n",
      "   macro avg       1.00      1.00      1.00        16\n",
      "weighted avg       1.00      1.00      1.00        16\n",
      "\n"
     ]
    }
   ],
   "source": [
    "#Evaluar SVM: Usar el mejor modelo encontrado por GridSearchCV\n",
    "best_svm_model = grid_svm.best_estimator_\n",
    "\n",
    "# Predecir y evaluar\n",
    "y_pred_best_svm = best_svm_model.predict(X_test)\n",
    "print(\"Reporte de Clasificación - SVM (mejores parámetros):\\n\")\n",
    "print(classification_report(y_test, y_pred_best_svm))\n"
   ]
  },
  {
   "cell_type": "code",
   "execution_count": 228,
   "id": "d9d37642-5e13-4300-8f05-cb6373762dc9",
   "metadata": {},
   "outputs": [
    {
     "name": "stdout",
     "output_type": "stream",
     "text": [
      "AUC-ROC (Regresión Logística): 0.91\n",
      "Reporte de Clasificación - Regresión Logística:\n",
      "\n",
      "              precision    recall  f1-score   support\n",
      "\n",
      "           0       0.83      1.00      0.91         5\n",
      "           1       1.00      0.91      0.95        11\n",
      "\n",
      "    accuracy                           0.94        16\n",
      "   macro avg       0.92      0.95      0.93        16\n",
      "weighted avg       0.95      0.94      0.94        16\n",
      "\n"
     ]
    },
    {
     "data": {
      "text/plain": [
       "[<matplotlib.lines.Line2D at 0x1a8dd9754c0>]"
      ]
     },
     "execution_count": 228,
     "metadata": {},
     "output_type": "execute_result"
    },
    {
     "data": {
      "image/png": "[encoded data removed]",
      "text/plain": [
       "<Figure size 640x480 with 1 Axes>"
      ]
     },
     "metadata": {},
     "output_type": "display_data"
    }
   ],
   "source": [
    "#Cálculo de las métricas:Evaluar Regresión Logística:\n",
    "from sklearn.metrics import classification_report, roc_auc_score, roc_curve\n",
    "import matplotlib.pyplot as plt\n",
    "\n",
    "# Predicciones de probabilidad\n",
    "y_prob_log = best_log_model.predict_proba(X_test)[:, 1]\n",
    "\n",
    "# Cálculo del AUC-ROC\n",
    "auc_log = roc_auc_score(y_test, y_prob_log)\n",
    "print(f\"AUC-ROC (Regresión Logística): {auc_log:.2f}\")\n",
    "\n",
    "# Reporte de clasificación\n",
    "y_pred_best_log = best_log_model.predict(X_test)\n",
    "print(\"Reporte de Clasificación - Regresión Logística:\\n\")\n",
    "print(classification_report(y_test, y_pred_best_log))\n",
    "\n",
    "# Curva ROC\n",
    "fpr_log, tpr_log, _ = roc_curve(y_test, y_prob_log)\n",
    "plt.plot(fpr_log, tpr_log, label=f'Reg. Logística (AUC = {auc_log:.2f})')\n"
   ]
  },
  {
   "cell_type": "code",
   "execution_count": 230,
   "id": "b4c7416d-eb17-4bc9-9ca9-c52304f7ae3c",
   "metadata": {},
   "outputs": [
    {
     "name": "stdout",
     "output_type": "stream",
     "text": [
      "AUC-ROC (SVM): 1.00\n",
      "Reporte de Clasificación - SVM:\n",
      "\n",
      "              precision    recall  f1-score   support\n",
      "\n",
      "           0       1.00      1.00      1.00         5\n",
      "           1       1.00      1.00      1.00        11\n",
      "\n",
      "    accuracy                           1.00        16\n",
      "   macro avg       1.00      1.00      1.00        16\n",
      "weighted avg       1.00      1.00      1.00        16\n",
      "\n"
     ]
    },
    {
     "data": {
      "text/plain": [
       "[<matplotlib.lines.Line2D at 0x1a8dd9afcb0>]"
      ]
     },
     "execution_count": 230,
     "metadata": {},
     "output_type": "execute_result"
    },
    {
     "data": {
      "image/png": "[encoded data removed]",
      "text/plain": [
       "<Figure size 640x480 with 1 Axes>"
      ]
     },
     "metadata": {},
     "output_type": "display_data"
    }
   ],
   "source": [
    "# Evaluar SVM:Predicciones de probabilidad\n",
    "y_prob_svm = best_svm_model.predict_proba(X_test)[:, 1]\n",
    "\n",
    "# Cálculo del AUC-ROC\n",
    "auc_svm = roc_auc_score(y_test, y_prob_svm)\n",
    "print(f\"AUC-ROC (SVM): {auc_svm:.2f}\")\n",
    "\n",
    "# Reporte de clasificación\n",
    "y_pred_best_svm = best_svm_model.predict(X_test)\n",
    "print(\"Reporte de Clasificación - SVM:\\n\")\n",
    "print(classification_report(y_test, y_pred_best_svm))\n",
    "\n",
    "# Curva ROC\n",
    "fpr_svm, tpr_svm, _ = roc_curve(y_test, y_prob_svm)\n",
    "plt.plot(fpr_svm, tpr_svm, label=f'SVM (AUC = {auc_svm:.2f})')\n"
   ]
  },
  {
   "cell_type": "code",
   "execution_count": 232,
   "id": "70f24abf-6ddd-45e0-951a-8e752a95cad7",
   "metadata": {},
   "outputs": [
    {
     "data": {
      "image/png": "[encoded data removed]",
      "text/plain": [
       "<Figure size 640x480 with 1 Axes>"
      ]
     },
     "metadata": {},
     "output_type": "display_data"
    }
   ],
   "source": [
    "# Graficar la curva ROC de Regresión Logística\n",
    "plt.plot(fpr_log, tpr_log, label=f'Reg. Logística (AUC = {auc_log:.2f})')\n",
    "\n",
    "# Graficar la curva ROC de SVM\n",
    "plt.plot(fpr_svm, tpr_svm, label=f'SVM (AUC = {auc_svm:.2f})')\n",
    "\n",
    "# Línea de referencia (aleatorio)\n",
    "plt.plot([0, 1], [0, 1], linestyle='--', color='gray')\n",
    "\n",
    "# Etiquetas y título\n",
    "plt.xlabel('Tasa de Falsos Positivos')\n",
    "plt.ylabel('Tasa de Verdaderos Positivos')\n",
    "plt.title('Curvas ROC Comparativas')\n",
    "\n",
    "# Agregar leyenda\n",
    "plt.legend(loc='lower right')\n",
    "plt.show()\n"
   ]
  },
  {
   "cell_type": "code",
   "execution_count": null,
   "id": "f12775cc-57b0-47dc-b648-71a95a7f6324",
   "metadata": {},
   "outputs": [],
   "source": [
    "#concluciones\n",
    "-Regresión Logística (AUC = 0.91):\n",
    "Desempeño general:\n",
    "Un AUC de 0.91 indica que el modelo tiene un muy buen desempeño para distinguir entre las clases \"bueno\" y \"malo\".\n",
    "-La curva ROC está consistentemente por encima de la diagonal de referencia, mostrando una alta sensibilidad y especificidad.\n",
    "\n",
    "#Support Vector Machine (AUC = 1.00):\n",
    "Desempeño general:\n",
    "El AUC de 1.00 indica que el modelo tiene un rendimiento perfecto en este conjunto de datos.\n",
    "La curva ROC muestra que el modelo clasifica correctamente todos los ejemplos de prueba sin errores.\n"
   ]
  }
 ],
 "metadata": {
  "kernelspec": {
   "display_name": "Python [conda env:base] *",
   "language": "python",
   "name": "conda-base-py"
  },
  "language_info": {
   "codemirror_mode": {
    "name": "ipython",
    "version": 3
   },
   "file_extension": ".py",
   "mimetype": "text/x-python",
   "name": "python",
   "nbconvert_exporter": "python",
   "pygments_lexer": "ipython3",
   "version": "3.12.7"
  }
 },
 "nbformat": 4,
 "nbformat_minor": 5
}
